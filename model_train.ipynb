{
  "cells": [
    {
      "attachments": {},
      "cell_type": "markdown",
      "metadata": {},
      "source": [
        "Make essential imports"
      ]
    },
    {
      "cell_type": "code",
      "execution_count": 1,
      "metadata": {
        "id": "Q90OHS7w3Cuc"
      },
      "outputs": [],
      "source": [
        "import pandas as pd\n",
        "import numpy as np\n",
        "import tensorflow as tf\n",
        "from tensorflow.keras.models import Sequential\n",
        "from tensorflow.keras.layers import LSTM, Dense\n",
        "from tensorflow import keras\n",
        "import matplotlib as matplt\n",
        "import matplotlib.pyplot as plt\n",
        "import itertools as it"
      ]
    },
    {
      "attachments": {},
      "cell_type": "markdown",
      "metadata": {},
      "source": [
        "Import Amazon's closing stock values"
      ]
    },
    {
      "cell_type": "code",
      "execution_count": 2,
      "metadata": {
        "colab": {
          "base_uri": "https://localhost:8080/",
          "height": 206
        },
        "id": "09qSubHw9X-I",
        "outputId": "144c0f26-f013-4fd7-e087-c562388c3fe3"
      },
      "outputs": [
        {
          "data": {
            "text/html": [
              "<div>\n",
              "<style scoped>\n",
              "    .dataframe tbody tr th:only-of-type {\n",
              "        vertical-align: middle;\n",
              "    }\n",
              "\n",
              "    .dataframe tbody tr th {\n",
              "        vertical-align: top;\n",
              "    }\n",
              "\n",
              "    .dataframe thead th {\n",
              "        text-align: right;\n",
              "    }\n",
              "</style>\n",
              "<table border=\"1\" class=\"dataframe\">\n",
              "  <thead>\n",
              "    <tr style=\"text-align: right;\">\n",
              "      <th></th>\n",
              "      <th>Date</th>\n",
              "      <th>Open</th>\n",
              "      <th>High</th>\n",
              "      <th>Low</th>\n",
              "      <th>Close</th>\n",
              "      <th>Adj Close</th>\n",
              "      <th>Volume</th>\n",
              "    </tr>\n",
              "  </thead>\n",
              "  <tbody>\n",
              "    <tr>\n",
              "      <th>0</th>\n",
              "      <td>1997-05-15</td>\n",
              "      <td>2.437500</td>\n",
              "      <td>2.500000</td>\n",
              "      <td>1.927083</td>\n",
              "      <td>1.958333</td>\n",
              "      <td>1.958333</td>\n",
              "      <td>72156000</td>\n",
              "    </tr>\n",
              "    <tr>\n",
              "      <th>1</th>\n",
              "      <td>1997-05-16</td>\n",
              "      <td>1.968750</td>\n",
              "      <td>1.979167</td>\n",
              "      <td>1.708333</td>\n",
              "      <td>1.729167</td>\n",
              "      <td>1.729167</td>\n",
              "      <td>14700000</td>\n",
              "    </tr>\n",
              "    <tr>\n",
              "      <th>2</th>\n",
              "      <td>1997-05-19</td>\n",
              "      <td>1.760417</td>\n",
              "      <td>1.770833</td>\n",
              "      <td>1.625000</td>\n",
              "      <td>1.708333</td>\n",
              "      <td>1.708333</td>\n",
              "      <td>6106800</td>\n",
              "    </tr>\n",
              "    <tr>\n",
              "      <th>3</th>\n",
              "      <td>1997-05-20</td>\n",
              "      <td>1.729167</td>\n",
              "      <td>1.750000</td>\n",
              "      <td>1.635417</td>\n",
              "      <td>1.635417</td>\n",
              "      <td>1.635417</td>\n",
              "      <td>5467200</td>\n",
              "    </tr>\n",
              "    <tr>\n",
              "      <th>4</th>\n",
              "      <td>1997-05-21</td>\n",
              "      <td>1.635417</td>\n",
              "      <td>1.645833</td>\n",
              "      <td>1.375000</td>\n",
              "      <td>1.427083</td>\n",
              "      <td>1.427083</td>\n",
              "      <td>18853200</td>\n",
              "    </tr>\n",
              "  </tbody>\n",
              "</table>\n",
              "</div>"
            ],
            "text/plain": [
              "         Date      Open      High       Low     Close  Adj Close    Volume\n",
              "0  1997-05-15  2.437500  2.500000  1.927083  1.958333   1.958333  72156000\n",
              "1  1997-05-16  1.968750  1.979167  1.708333  1.729167   1.729167  14700000\n",
              "2  1997-05-19  1.760417  1.770833  1.625000  1.708333   1.708333   6106800\n",
              "3  1997-05-20  1.729167  1.750000  1.635417  1.635417   1.635417   5467200\n",
              "4  1997-05-21  1.635417  1.645833  1.375000  1.427083   1.427083  18853200"
            ]
          },
          "execution_count": 2,
          "metadata": {},
          "output_type": "execute_result"
        }
      ],
      "source": [
        "df = pd.read_csv('Amazon.csv')\n",
        "df.head()"
      ]
    },
    {
      "attachments": {},
      "cell_type": "markdown",
      "metadata": {},
      "source": [
        "Normalizing the data"
      ]
    },
    {
      "cell_type": "code",
      "execution_count": 3,
      "metadata": {
        "colab": {
          "base_uri": "https://localhost:8080/"
        },
        "id": "QVdcu1jS9g5l",
        "outputId": "bfee7ac4-9340-4a29-b6e8-d1ad0677b7c0"
      },
      "outputs": [
        {
          "data": {
            "text/plain": [
              "array([-0.60526753, -0.60553506, -0.60555938, ...,  3.26867136,\n",
              "        3.3336959 ,  3.357184  ])"
            ]
          },
          "execution_count": 3,
          "metadata": {},
          "output_type": "execute_result"
        }
      ],
      "source": [
        "X = df.Close.values\n",
        "mean = np.mean(X)\n",
        "std = np.std(X)\n",
        "X_norm = (X-mean)/std\n",
        "X_norm"
      ]
    },
    {
      "attachments": {},
      "cell_type": "markdown",
      "metadata": {},
      "source": [
        "Divide my data into a sliding window of 5 days"
      ]
    },
    {
      "cell_type": "code",
      "execution_count": 4,
      "metadata": {
        "id": "o-fL_D1xLiO1"
      },
      "outputs": [],
      "source": [
        "X_data = np.zeros((len(X_norm)-6, 5))\n",
        "Y_data = np.zeros((len(X_norm)-6))\n",
        "for i in range(len(X_norm)-6):\n",
        "  X_data[i,0:5] = X_norm[i:i+5]\n",
        "  Y_data[i] = X_norm[i+6]\n"
      ]
    },
    {
      "attachments": {},
      "cell_type": "markdown",
      "metadata": {},
      "source": [
        "Reshape the data to be used in LSTMs"
      ]
    },
    {
      "cell_type": "code",
      "execution_count": 5,
      "metadata": {
        "colab": {
          "base_uri": "https://localhost:8080/"
        },
        "id": "SDBjEKXgAjkD",
        "outputId": "2205f7cd-7dd7-4610-acf9-260e508512f8"
      },
      "outputs": [
        {
          "data": {
            "text/plain": [
              "array([[[-0.60526753],\n",
              "        [-0.60553506],\n",
              "        [-0.60555938],\n",
              "        [-0.6056445 ],\n",
              "        [-0.60588772]],\n",
              "\n",
              "       [[-0.60553506],\n",
              "        [-0.60555938],\n",
              "        [-0.6056445 ],\n",
              "        [-0.60588772],\n",
              "        [-0.6059242 ]],\n",
              "\n",
              "       [[-0.60555938],\n",
              "        [-0.6056445 ],\n",
              "        [-0.60588772],\n",
              "        [-0.6059242 ],\n",
              "        [-0.60580259]],\n",
              "\n",
              "       ...,\n",
              "\n",
              "       [[ 3.37216193],\n",
              "        [ 3.4161965 ],\n",
              "        [ 3.41317281],\n",
              "        [ 3.37921311],\n",
              "        [ 3.40250284]],\n",
              "\n",
              "       [[ 3.4161965 ],\n",
              "        [ 3.41317281],\n",
              "        [ 3.37921311],\n",
              "        [ 3.40250284],\n",
              "        [ 3.28639253]],\n",
              "\n",
              "       [[ 3.41317281],\n",
              "        [ 3.37921311],\n",
              "        [ 3.40250284],\n",
              "        [ 3.28639253],\n",
              "        [ 3.26867136]]])"
            ]
          },
          "execution_count": 5,
          "metadata": {},
          "output_type": "execute_result"
        }
      ],
      "source": [
        "X_data = X_data.reshape(X_data.shape[0], X_data.shape[1], 1)\n",
        "X_data"
      ]
    },
    {
      "attachments": {},
      "cell_type": "markdown",
      "metadata": {},
      "source": [
        "Split into train/test sets"
      ]
    },
    {
      "cell_type": "code",
      "execution_count": 6,
      "metadata": {
        "id": "ZQ5bgW-cLaTi"
      },
      "outputs": [],
      "source": [
        "X_train = X_data[0:5600]\n",
        "y_train = Y_data[0:5600]\n",
        "X_test = X_data[5600:-1]\n",
        "y_test = Y_data[5600:-1]"
      ]
    },
    {
      "attachments": {},
      "cell_type": "markdown",
      "metadata": {},
      "source": [
        "Create LSTM model with: Adam optimizer, MSE loss and a monitor on the validation MSE"
      ]
    },
    {
      "cell_type": "code",
      "execution_count": 41,
      "metadata": {
        "id": "hTtvkUQkYMPC"
      },
      "outputs": [],
      "source": [
        "model = Sequential([\n",
        "    LSTM(64, return_sequences=False, input_shape=(X_data.shape[1], X_data.shape[2]), kernel_regularizer=tf.keras.regularizers.L1L2(l1=0.01, l2=0.1)),\n",
        "    Dense(1, activation='linear')\n",
        "])\n",
        "model.compile(metrics=['mse'], optimizer='Adam', loss='mse')\n",
        "\n",
        "model_checkpoint_callback = tf.keras.callbacks.ModelCheckpoint(\n",
        "    filepath=\"/content/best_weights.h5\",\n",
        "    monitor='val_mse',\n",
        "    mode='min',\n",
        "    save_best_only=True)"
      ]
    },
    {
      "cell_type": "code",
      "execution_count": 10,
      "metadata": {},
      "outputs": [],
      "source": [
        "model = keras.models.load_model('best_weights.h5')"
      ]
    },
    {
      "cell_type": "code",
      "execution_count": 42,
      "metadata": {
        "colab": {
          "base_uri": "https://localhost:8080/"
        },
        "id": "puPpLrVqcrBb",
        "outputId": "6ccc94d9-16ee-462d-c216-2acd805184af"
      },
      "outputs": [
        {
          "name": "stdout",
          "output_type": "stream",
          "text": [
            "Model: \"sequential_3\"\n",
            "_________________________________________________________________\n",
            " Layer (type)                Output Shape              Param #   \n",
            "=================================================================\n",
            " lstm_3 (LSTM)               (None, 64)                16896     \n",
            "                                                                 \n",
            " dense_3 (Dense)             (None, 1)                 65        \n",
            "                                                                 \n",
            "=================================================================\n",
            "Total params: 16,961\n",
            "Trainable params: 16,961\n",
            "Non-trainable params: 0\n",
            "_________________________________________________________________\n"
          ]
        }
      ],
      "source": [
        "model.summary()"
      ]
    },
    {
      "cell_type": "code",
      "execution_count": 43,
      "metadata": {
        "colab": {
          "base_uri": "https://localhost:8080/"
        },
        "id": "UwRFDUh4Zn37",
        "outputId": "3c476534-7b58-4529-e5f3-11aedbb47543"
      },
      "outputs": [
        {
          "name": "stdout",
          "output_type": "stream",
          "text": [
            "Epoch 1/100\n",
            "175/175 [==============================] - 3s 8ms/step - loss: 0.1874 - mse: 0.0316 - val_loss: 0.1182 - val_mse: 0.0942\n",
            "Epoch 2/100\n",
            "175/175 [==============================] - 1s 5ms/step - loss: 0.0123 - mse: 9.8447e-04 - val_loss: 0.1777 - val_mse: 0.1726\n",
            "Epoch 3/100\n",
            "175/175 [==============================] - 1s 5ms/step - loss: 0.0050 - mse: 0.0012 - val_loss: 0.1118 - val_mse: 0.1089\n",
            "Epoch 4/100\n",
            "175/175 [==============================] - 1s 5ms/step - loss: 0.0038 - mse: 0.0013 - val_loss: 0.0853 - val_mse: 0.0831\n",
            "Epoch 5/100\n",
            "175/175 [==============================] - 1s 4ms/step - loss: 0.0034 - mse: 0.0013 - val_loss: 0.0832 - val_mse: 0.0813\n",
            "Epoch 6/100\n",
            "175/175 [==============================] - 1s 4ms/step - loss: 0.0035 - mse: 0.0016 - val_loss: 0.0855 - val_mse: 0.0837\n",
            "Epoch 7/100\n",
            "175/175 [==============================] - 1s 4ms/step - loss: 0.0032 - mse: 0.0014 - val_loss: 0.1101 - val_mse: 0.1082\n",
            "Epoch 8/100\n",
            "175/175 [==============================] - 1s 4ms/step - loss: 0.0031 - mse: 0.0014 - val_loss: 0.0942 - val_mse: 0.0925\n",
            "Epoch 9/100\n",
            "175/175 [==============================] - 1s 4ms/step - loss: 0.0026 - mse: 9.9438e-04 - val_loss: 0.1713 - val_mse: 0.1698\n",
            "Epoch 10/100\n",
            "175/175 [==============================] - 1s 4ms/step - loss: 0.0034 - mse: 0.0018 - val_loss: 0.0923 - val_mse: 0.0905\n",
            "Epoch 11/100\n",
            "175/175 [==============================] - 1s 4ms/step - loss: 0.0025 - mse: 9.6558e-04 - val_loss: 0.0436 - val_mse: 0.0419\n",
            "Epoch 12/100\n",
            "175/175 [==============================] - 1s 4ms/step - loss: 0.0026 - mse: 0.0011 - val_loss: 0.1055 - val_mse: 0.1041\n",
            "Epoch 13/100\n",
            "175/175 [==============================] - 1s 4ms/step - loss: 0.0025 - mse: 0.0011 - val_loss: 0.1887 - val_mse: 0.1872\n",
            "Epoch 14/100\n",
            "175/175 [==============================] - 1s 4ms/step - loss: 0.0026 - mse: 0.0012 - val_loss: 0.1336 - val_mse: 0.1322\n",
            "Epoch 15/100\n",
            "175/175 [==============================] - 1s 4ms/step - loss: 0.0028 - mse: 0.0015 - val_loss: 0.1351 - val_mse: 0.1338\n",
            "Epoch 16/100\n",
            "175/175 [==============================] - 1s 4ms/step - loss: 0.0027 - mse: 0.0012 - val_loss: 0.1873 - val_mse: 0.1858\n",
            "Epoch 17/100\n",
            "175/175 [==============================] - 1s 4ms/step - loss: 0.0026 - mse: 0.0012 - val_loss: 0.0813 - val_mse: 0.0799\n",
            "Epoch 18/100\n",
            "175/175 [==============================] - 1s 4ms/step - loss: 0.0024 - mse: 0.0010 - val_loss: 0.1053 - val_mse: 0.1040\n",
            "Epoch 19/100\n",
            "175/175 [==============================] - 1s 4ms/step - loss: 0.0023 - mse: 9.8874e-04 - val_loss: 0.0590 - val_mse: 0.0577\n",
            "Epoch 20/100\n",
            "175/175 [==============================] - 1s 4ms/step - loss: 0.0023 - mse: 0.0010 - val_loss: 0.0923 - val_mse: 0.0911\n",
            "Epoch 21/100\n",
            "175/175 [==============================] - 1s 4ms/step - loss: 0.0024 - mse: 0.0012 - val_loss: 0.1200 - val_mse: 0.1188\n",
            "Epoch 22/100\n",
            "175/175 [==============================] - 1s 4ms/step - loss: 0.0023 - mse: 0.0011 - val_loss: 0.1000 - val_mse: 0.0988\n",
            "Epoch 23/100\n",
            "175/175 [==============================] - 1s 4ms/step - loss: 0.0027 - mse: 0.0014 - val_loss: 0.0807 - val_mse: 0.0795\n",
            "Epoch 24/100\n",
            "175/175 [==============================] - 1s 4ms/step - loss: 0.0021 - mse: 8.6976e-04 - val_loss: 0.0816 - val_mse: 0.0804\n",
            "Epoch 25/100\n",
            "175/175 [==============================] - 1s 4ms/step - loss: 0.0022 - mse: 0.0011 - val_loss: 0.1082 - val_mse: 0.1071\n",
            "Epoch 26/100\n",
            "175/175 [==============================] - 1s 5ms/step - loss: 0.0024 - mse: 0.0012 - val_loss: 0.0876 - val_mse: 0.0864\n",
            "Epoch 27/100\n",
            "175/175 [==============================] - 1s 4ms/step - loss: 0.0021 - mse: 9.6483e-04 - val_loss: 0.0659 - val_mse: 0.0648\n",
            "Epoch 28/100\n",
            "175/175 [==============================] - 1s 4ms/step - loss: 0.0023 - mse: 0.0011 - val_loss: 0.1212 - val_mse: 0.1201\n",
            "Epoch 29/100\n",
            "175/175 [==============================] - 1s 4ms/step - loss: 0.0021 - mse: 9.5707e-04 - val_loss: 0.0871 - val_mse: 0.0860\n",
            "Epoch 30/100\n",
            "175/175 [==============================] - 1s 4ms/step - loss: 0.0021 - mse: 0.0010 - val_loss: 0.1491 - val_mse: 0.1479\n",
            "Epoch 31/100\n",
            "175/175 [==============================] - 1s 4ms/step - loss: 0.0021 - mse: 9.7529e-04 - val_loss: 0.0641 - val_mse: 0.0630\n",
            "Epoch 32/100\n",
            "175/175 [==============================] - 1s 4ms/step - loss: 0.0022 - mse: 0.0011 - val_loss: 0.0948 - val_mse: 0.0938\n",
            "Epoch 33/100\n",
            "175/175 [==============================] - 1s 4ms/step - loss: 0.0021 - mse: 9.7575e-04 - val_loss: 0.0785 - val_mse: 0.0774\n",
            "Epoch 34/100\n",
            "175/175 [==============================] - 1s 4ms/step - loss: 0.0019 - mse: 9.1801e-04 - val_loss: 0.0367 - val_mse: 0.0355\n",
            "Epoch 35/100\n",
            "175/175 [==============================] - 1s 5ms/step - loss: 0.0019 - mse: 9.0528e-04 - val_loss: 0.1543 - val_mse: 0.1533\n",
            "Epoch 36/100\n",
            "175/175 [==============================] - 1s 5ms/step - loss: 0.0021 - mse: 0.0010 - val_loss: 0.0877 - val_mse: 0.0867\n",
            "Epoch 37/100\n",
            "175/175 [==============================] - 1s 5ms/step - loss: 0.0021 - mse: 0.0011 - val_loss: 0.0913 - val_mse: 0.0902\n",
            "Epoch 38/100\n",
            "175/175 [==============================] - 1s 5ms/step - loss: 0.0021 - mse: 0.0010 - val_loss: 0.0908 - val_mse: 0.0899\n",
            "Epoch 39/100\n",
            "175/175 [==============================] - 1s 4ms/step - loss: 0.0018 - mse: 8.5563e-04 - val_loss: 0.0566 - val_mse: 0.0555\n",
            "Epoch 40/100\n",
            "175/175 [==============================] - 1s 4ms/step - loss: 0.0020 - mse: 0.0010 - val_loss: 0.0860 - val_mse: 0.0850\n",
            "Epoch 41/100\n",
            "175/175 [==============================] - 1s 4ms/step - loss: 0.0018 - mse: 8.9061e-04 - val_loss: 0.0514 - val_mse: 0.0505\n",
            "Epoch 42/100\n",
            "175/175 [==============================] - 1s 4ms/step - loss: 0.0020 - mse: 0.0010 - val_loss: 0.1056 - val_mse: 0.1046\n",
            "Epoch 43/100\n",
            "175/175 [==============================] - 1s 4ms/step - loss: 0.0019 - mse: 9.0122e-04 - val_loss: 0.1073 - val_mse: 0.1063\n",
            "Epoch 44/100\n",
            "175/175 [==============================] - 1s 4ms/step - loss: 0.0017 - mse: 8.2196e-04 - val_loss: 0.0870 - val_mse: 0.0861\n",
            "Epoch 45/100\n",
            "175/175 [==============================] - 1s 4ms/step - loss: 0.0019 - mse: 9.7647e-04 - val_loss: 0.1165 - val_mse: 0.1156\n",
            "Epoch 46/100\n",
            "175/175 [==============================] - 1s 4ms/step - loss: 0.0019 - mse: 9.1961e-04 - val_loss: 0.0650 - val_mse: 0.0640\n",
            "Epoch 47/100\n",
            "175/175 [==============================] - 1s 4ms/step - loss: 0.0019 - mse: 9.9708e-04 - val_loss: 0.0688 - val_mse: 0.0678\n",
            "Epoch 48/100\n",
            "175/175 [==============================] - 1s 4ms/step - loss: 0.0019 - mse: 9.4301e-04 - val_loss: 0.0905 - val_mse: 0.0896\n",
            "Epoch 49/100\n",
            "175/175 [==============================] - 1s 4ms/step - loss: 0.0018 - mse: 8.8262e-04 - val_loss: 0.2073 - val_mse: 0.2062\n",
            "Epoch 50/100\n",
            "175/175 [==============================] - 1s 4ms/step - loss: 0.0017 - mse: 8.3809e-04 - val_loss: 0.0488 - val_mse: 0.0479\n",
            "Epoch 51/100\n",
            "175/175 [==============================] - 1s 4ms/step - loss: 0.0018 - mse: 8.8224e-04 - val_loss: 0.1940 - val_mse: 0.1931\n",
            "Epoch 52/100\n",
            "175/175 [==============================] - 1s 4ms/step - loss: 0.0020 - mse: 0.0011 - val_loss: 0.0892 - val_mse: 0.0882\n",
            "Epoch 53/100\n",
            "175/175 [==============================] - 1s 4ms/step - loss: 0.0018 - mse: 9.0832e-04 - val_loss: 0.1361 - val_mse: 0.1352\n",
            "Epoch 54/100\n",
            "175/175 [==============================] - 1s 4ms/step - loss: 0.0018 - mse: 9.0388e-04 - val_loss: 0.0697 - val_mse: 0.0688\n",
            "Epoch 55/100\n",
            "175/175 [==============================] - 1s 4ms/step - loss: 0.0019 - mse: 9.8951e-04 - val_loss: 0.0517 - val_mse: 0.0507\n",
            "Epoch 56/100\n",
            "175/175 [==============================] - 1s 4ms/step - loss: 0.0017 - mse: 8.5130e-04 - val_loss: 0.0761 - val_mse: 0.0751\n",
            "Epoch 57/100\n",
            "175/175 [==============================] - 1s 4ms/step - loss: 0.0018 - mse: 8.9507e-04 - val_loss: 0.0366 - val_mse: 0.0356\n",
            "Epoch 58/100\n",
            "175/175 [==============================] - 1s 4ms/step - loss: 0.0017 - mse: 8.4056e-04 - val_loss: 0.0879 - val_mse: 0.0871\n",
            "Epoch 59/100\n",
            "175/175 [==============================] - 1s 4ms/step - loss: 0.0016 - mse: 8.0612e-04 - val_loss: 0.0801 - val_mse: 0.0793\n",
            "Epoch 60/100\n",
            "175/175 [==============================] - 1s 4ms/step - loss: 0.0019 - mse: 0.0010 - val_loss: 0.0444 - val_mse: 0.0435\n",
            "Epoch 61/100\n",
            "175/175 [==============================] - 1s 4ms/step - loss: 0.0018 - mse: 8.9222e-04 - val_loss: 0.0702 - val_mse: 0.0693\n",
            "Epoch 62/100\n",
            "175/175 [==============================] - 1s 4ms/step - loss: 0.0017 - mse: 8.5169e-04 - val_loss: 0.0686 - val_mse: 0.0677\n",
            "Epoch 63/100\n",
            "175/175 [==============================] - 1s 4ms/step - loss: 0.0018 - mse: 9.0416e-04 - val_loss: 0.0541 - val_mse: 0.0533\n",
            "Epoch 64/100\n",
            "175/175 [==============================] - 1s 4ms/step - loss: 0.0021 - mse: 0.0012 - val_loss: 0.0955 - val_mse: 0.0947\n",
            "Epoch 65/100\n",
            "175/175 [==============================] - 1s 4ms/step - loss: 0.0017 - mse: 8.4572e-04 - val_loss: 0.0676 - val_mse: 0.0667\n",
            "Epoch 66/100\n",
            "175/175 [==============================] - 1s 4ms/step - loss: 0.0017 - mse: 8.3542e-04 - val_loss: 0.1184 - val_mse: 0.1176\n",
            "Epoch 67/100\n",
            "175/175 [==============================] - 1s 4ms/step - loss: 0.0017 - mse: 8.4920e-04 - val_loss: 0.1003 - val_mse: 0.0995\n",
            "Epoch 68/100\n",
            "175/175 [==============================] - 1s 4ms/step - loss: 0.0017 - mse: 8.4357e-04 - val_loss: 0.0764 - val_mse: 0.0755\n",
            "Epoch 69/100\n",
            "175/175 [==============================] - 1s 4ms/step - loss: 0.0018 - mse: 0.0010 - val_loss: 0.0984 - val_mse: 0.0975\n",
            "Epoch 70/100\n",
            "175/175 [==============================] - 1s 4ms/step - loss: 0.0017 - mse: 8.2370e-04 - val_loss: 0.1336 - val_mse: 0.1327\n",
            "Epoch 71/100\n",
            "175/175 [==============================] - 1s 4ms/step - loss: 0.0017 - mse: 8.6691e-04 - val_loss: 0.1172 - val_mse: 0.1164\n",
            "Epoch 72/100\n",
            "175/175 [==============================] - 1s 4ms/step - loss: 0.0017 - mse: 8.6807e-04 - val_loss: 0.0990 - val_mse: 0.0982\n",
            "Epoch 73/100\n",
            "175/175 [==============================] - 1s 4ms/step - loss: 0.0016 - mse: 8.2813e-04 - val_loss: 0.0595 - val_mse: 0.0587\n",
            "Epoch 74/100\n",
            "175/175 [==============================] - 1s 4ms/step - loss: 0.0020 - mse: 0.0011 - val_loss: 0.0744 - val_mse: 0.0735\n",
            "Epoch 75/100\n",
            "175/175 [==============================] - 1s 4ms/step - loss: 0.0016 - mse: 7.7389e-04 - val_loss: 0.0839 - val_mse: 0.0831\n",
            "Epoch 76/100\n",
            "175/175 [==============================] - 1s 4ms/step - loss: 0.0018 - mse: 9.6403e-04 - val_loss: 0.1281 - val_mse: 0.1272\n",
            "Epoch 77/100\n",
            "175/175 [==============================] - 1s 4ms/step - loss: 0.0016 - mse: 7.7482e-04 - val_loss: 0.1154 - val_mse: 0.1146\n",
            "Epoch 78/100\n",
            "175/175 [==============================] - 1s 4ms/step - loss: 0.0016 - mse: 8.1086e-04 - val_loss: 0.0920 - val_mse: 0.0912\n",
            "Epoch 79/100\n",
            "175/175 [==============================] - 1s 4ms/step - loss: 0.0018 - mse: 9.9204e-04 - val_loss: 0.0934 - val_mse: 0.0926\n",
            "Epoch 80/100\n",
            "175/175 [==============================] - 1s 4ms/step - loss: 0.0016 - mse: 7.6290e-04 - val_loss: 0.1282 - val_mse: 0.1274\n",
            "Epoch 81/100\n",
            "175/175 [==============================] - 1s 4ms/step - loss: 0.0019 - mse: 0.0010 - val_loss: 0.0761 - val_mse: 0.0753\n",
            "Epoch 82/100\n",
            "175/175 [==============================] - 1s 4ms/step - loss: 0.0016 - mse: 7.6055e-04 - val_loss: 0.0611 - val_mse: 0.0603\n",
            "Epoch 83/100\n",
            "175/175 [==============================] - 1s 4ms/step - loss: 0.0017 - mse: 8.5291e-04 - val_loss: 0.1038 - val_mse: 0.1030\n",
            "Epoch 84/100\n",
            "175/175 [==============================] - 1s 4ms/step - loss: 0.0017 - mse: 8.7485e-04 - val_loss: 0.0895 - val_mse: 0.0887\n",
            "Epoch 85/100\n",
            "175/175 [==============================] - 1s 4ms/step - loss: 0.0016 - mse: 8.0368e-04 - val_loss: 0.1428 - val_mse: 0.1420\n",
            "Epoch 86/100\n",
            "175/175 [==============================] - 1s 4ms/step - loss: 0.0017 - mse: 8.9409e-04 - val_loss: 0.0768 - val_mse: 0.0760\n",
            "Epoch 87/100\n",
            "175/175 [==============================] - 1s 4ms/step - loss: 0.0015 - mse: 7.4688e-04 - val_loss: 0.0642 - val_mse: 0.0635\n",
            "Epoch 88/100\n",
            "175/175 [==============================] - 1s 4ms/step - loss: 0.0016 - mse: 8.1537e-04 - val_loss: 0.0983 - val_mse: 0.0975\n",
            "Epoch 89/100\n",
            "175/175 [==============================] - 1s 4ms/step - loss: 0.0018 - mse: 9.8006e-04 - val_loss: 0.0572 - val_mse: 0.0565\n",
            "Epoch 90/100\n",
            "175/175 [==============================] - 1s 4ms/step - loss: 0.0019 - mse: 0.0011 - val_loss: 0.0639 - val_mse: 0.0631\n",
            "Epoch 91/100\n",
            "175/175 [==============================] - 1s 4ms/step - loss: 0.0015 - mse: 7.5431e-04 - val_loss: 0.0639 - val_mse: 0.0632\n",
            "Epoch 92/100\n",
            "175/175 [==============================] - 1s 4ms/step - loss: 0.0015 - mse: 7.7627e-04 - val_loss: 0.0703 - val_mse: 0.0696\n",
            "Epoch 93/100\n",
            "175/175 [==============================] - 1s 4ms/step - loss: 0.0017 - mse: 8.6216e-04 - val_loss: 0.0793 - val_mse: 0.0785\n",
            "Epoch 94/100\n",
            "175/175 [==============================] - 1s 4ms/step - loss: 0.0015 - mse: 7.5834e-04 - val_loss: 0.0743 - val_mse: 0.0736\n",
            "Epoch 95/100\n",
            "175/175 [==============================] - 1s 4ms/step - loss: 0.0015 - mse: 7.3527e-04 - val_loss: 0.1098 - val_mse: 0.1090\n",
            "Epoch 96/100\n",
            "175/175 [==============================] - 1s 4ms/step - loss: 0.0018 - mse: 9.8566e-04 - val_loss: 0.1197 - val_mse: 0.1190\n",
            "Epoch 97/100\n",
            "175/175 [==============================] - 1s 4ms/step - loss: 0.0016 - mse: 8.3900e-04 - val_loss: 0.0719 - val_mse: 0.0711\n",
            "Epoch 98/100\n",
            "175/175 [==============================] - 1s 4ms/step - loss: 0.0015 - mse: 7.4059e-04 - val_loss: 0.0807 - val_mse: 0.0800\n",
            "Epoch 99/100\n",
            "175/175 [==============================] - 1s 4ms/step - loss: 0.0016 - mse: 8.7916e-04 - val_loss: 0.0958 - val_mse: 0.0951\n",
            "Epoch 100/100\n",
            "175/175 [==============================] - 1s 4ms/step - loss: 0.0015 - mse: 7.9787e-04 - val_loss: 0.0666 - val_mse: 0.0659\n"
          ]
        }
      ],
      "source": [
        "history = model.fit(X_train, y_train, validation_data=(X_test, y_test), batch_size=None, epochs=100, callbacks=model_checkpoint_callback)"
      ]
    },
    {
      "cell_type": "code",
      "execution_count": 11,
      "metadata": {
        "colab": {
          "base_uri": "https://localhost:8080/"
        },
        "id": "_kb9T9v1EDRI",
        "outputId": "be27933e-1ab1-4732-bce8-af1f436487b9"
      },
      "outputs": [
        {
          "name": "stdout",
          "output_type": "stream",
          "text": [
            "18/18 [==============================] - 1s 2ms/step - loss: 0.0367 - mse: 0.0355\n"
          ]
        },
        {
          "data": {
            "text/plain": [
              "[0.03666593134403229, 0.035454247146844864]"
            ]
          },
          "execution_count": 11,
          "metadata": {},
          "output_type": "execute_result"
        }
      ],
      "source": [
        "model.evaluate(X_test, y_test)"
      ]
    },
    {
      "attachments": {},
      "cell_type": "markdown",
      "metadata": {},
      "source": [
        "Getting Y_pred to plot it on the graph"
      ]
    },
    {
      "cell_type": "code",
      "execution_count": 12,
      "metadata": {
        "id": "sZSt6hc7J44R"
      },
      "outputs": [],
      "source": [
        "Y_pred = (model(X_data)*std)+mean\n",
        "Y_data = (Y_data*std)+mean\n",
        "Y_pred = tf.reshape(Y_pred, shape=(Y_pred.shape[0]))"
      ]
    },
    {
      "attachments": {},
      "cell_type": "markdown",
      "metadata": {},
      "source": [
        "Compare the values of Y_true (Y_data) and Y_pred to visually evaluate algorithm's performance"
      ]
    },
    {
      "cell_type": "code",
      "execution_count": 18,
      "metadata": {
        "colab": {
          "base_uri": "https://localhost:8080/",
          "height": 430
        },
        "id": "UN90tojuVFsq",
        "outputId": "dc546f6e-ed18-4d10-aabe-d6a0ceb52713"
      },
      "outputs": [
        {
          "data": {
            "image/png": "[encoded data removed]",
            "text/plain": [
              "<Figure size 640x480 with 1 Axes>"
            ]
          },
          "metadata": {},
          "output_type": "display_data"
        }
      ],
      "source": [
        "fig, ax = plt.subplots()\n",
        "x_axis = np.linspace(1,  Y_pred.shape[0], Y_pred.shape[0])\n",
        "ax.plot(x_axis, Y_data, label='Original')\n",
        "ax.plot(x_axis, Y_pred, label='Predicted')\n",
        "ax.legend()\n",
        "plt.show()"
      ]
    }
  ],
  "metadata": {
    "colab": {
      "provenance": []
    },
    "kernelspec": {
      "display_name": "Python 3",
      "language": "python",
      "name": "python3"
    },
    "language_info": {
      "codemirror_mode": {
        "name": "ipython",
        "version": 3
      },
      "file_extension": ".py",
      "mimetype": "text/x-python",
      "name": "python",
      "nbconvert_exporter": "python",
      "pygments_lexer": "ipython3",
      "version": "3.10.2"
    },
    "vscode": {
      "interpreter": {
        "hash": "654225bcb55ab39254e1ee27793aa32df174101b0949537e59eb156c66025b90"
      }
    }
  },
  "nbformat": 4,
  "nbformat_minor": 0
}
